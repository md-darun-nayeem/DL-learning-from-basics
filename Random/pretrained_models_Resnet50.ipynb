{
  "nbformat": 4,
  "nbformat_minor": 0,
  "metadata": {
    "colab": {
      "provenance": []
    },
    "kernelspec": {
      "name": "python3",
      "display_name": "Python 3"
    },
    "language_info": {
      "name": "python"
    }
  },
  "cells": [
    {
      "cell_type": "code",
      "execution_count": 2,
      "metadata": {
        "id": "FbIkmbMUIc2Q"
      },
      "outputs": [],
      "source": [
        "import keras\n",
        "from keras.applications.resnet50 import ResNet50\n",
        "from keras.applications.resnet50 import preprocess_input, decode_predictions\n",
        "import numpy as np\n",
        "from tensorflow.keras.preprocessing import image"
      ]
    },
    {
      "cell_type": "code",
      "source": [
        "model = ResNet50(weights='imagenet')"
      ],
      "metadata": {
        "id": "z1vp7dmzJL5N"
      },
      "execution_count": 20,
      "outputs": []
    },
    {
      "cell_type": "markdown",
      "source": [
        "**A cat image**"
      ],
      "metadata": {
        "id": "gSE_Ew1hLLPI"
      }
    },
    {
      "cell_type": "code",
      "source": [
        "img_path = \"/content/cats-speak.png\"\n",
        "img = image.load_img(img_path, target_size=(224,224))\n",
        "x = image.img_to_array(img)\n",
        "x = np.expand_dims(x, axis = 0)\n",
        "x = preprocess_input(x)"
      ],
      "metadata": {
        "id": "Ik1DSYD8JWO-"
      },
      "execution_count": 21,
      "outputs": []
    },
    {
      "cell_type": "code",
      "source": [
        "preds = model.predict(x)\n",
        "print(\"Predicted: \", decode_predictions(preds, top =3)[0])"
      ],
      "metadata": {
        "colab": {
          "base_uri": "https://localhost:8080/"
        },
        "id": "tR_vKC9UJWR1",
        "outputId": "2437bca5-4db0-4931-c20f-bd34ac86c331"
      },
      "execution_count": 22,
      "outputs": [
        {
          "output_type": "stream",
          "name": "stdout",
          "text": [
            "1/1 [==============================] - 1s 1s/step\n",
            "Predicted:  [('n02124075', 'Egyptian_cat', 0.6710989), ('n02123045', 'tabby', 0.22368716), ('n02123159', 'tiger_cat', 0.062081683)]\n"
          ]
        }
      ]
    },
    {
      "cell_type": "markdown",
      "source": [
        "**A tiger image**"
      ],
      "metadata": {
        "id": "mmCfcrMvLUbJ"
      }
    },
    {
      "cell_type": "code",
      "source": [
        "img_path = \"/content/tiger.jpg\"\n",
        "img = image.load_img(img_path, target_size=(224,224))\n",
        "x = image.img_to_array(img)\n",
        "x = np.expand_dims(x, axis = 0)\n",
        "x = preprocess_input(x)"
      ],
      "metadata": {
        "id": "8T7SImoEJWff"
      },
      "execution_count": 8,
      "outputs": []
    },
    {
      "cell_type": "code",
      "source": [
        "preds = model.predict(x)\n",
        "print(\"Predicted: \", decode_predictions(preds, top =3)[0])"
      ],
      "metadata": {
        "colab": {
          "base_uri": "https://localhost:8080/"
        },
        "id": "D37_N8RBLTQm",
        "outputId": "27362726-73f7-4cf5-f04a-12718d1b04d0"
      },
      "execution_count": 9,
      "outputs": [
        {
          "output_type": "stream",
          "name": "stdout",
          "text": [
            "1/1 [==============================] - 0s 355ms/step\n",
            "Predicted:  [('n02129604', 'tiger', 0.91198844), ('n02123159', 'tiger_cat', 0.080407165), ('n02128925', 'jaguar', 0.006293491)]\n"
          ]
        }
      ]
    },
    {
      "cell_type": "markdown",
      "source": [
        "**A mobile image**"
      ],
      "metadata": {
        "id": "XYa4ouhTLgtR"
      }
    },
    {
      "cell_type": "code",
      "source": [
        "img_path = \"/content/mobile.jpg\"\n",
        "img = image.load_img(img_path, target_size=(224,224))\n",
        "x = image.img_to_array(img)\n",
        "x = np.expand_dims(x, axis = 0)\n",
        "x = preprocess_input(x)"
      ],
      "metadata": {
        "id": "d_rAdJy-LTTP"
      },
      "execution_count": 25,
      "outputs": []
    },
    {
      "cell_type": "code",
      "source": [
        "preds = model.predict(x)\n",
        "print(\"Predicted: \", decode_predictions(preds, top =3)[0])"
      ],
      "metadata": {
        "colab": {
          "base_uri": "https://localhost:8080/"
        },
        "id": "kY0Gar6NLTWX",
        "outputId": "bd1ad644-6f37-4539-b7c1-d2a1b9142616"
      },
      "execution_count": 26,
      "outputs": [
        {
          "output_type": "stream",
          "name": "stdout",
          "text": [
            "1/1 [==============================] - 0s 219ms/step\n",
            "Predicted:  [('n02992529', 'cellular_telephone', 0.55739695), ('n03485407', 'hand-held_computer', 0.16608463), ('n03777754', 'modem', 0.052817967)]\n"
          ]
        }
      ]
    }
  ]
}