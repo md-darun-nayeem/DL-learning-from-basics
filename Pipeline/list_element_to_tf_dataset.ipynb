{
  "nbformat": 4,
  "nbformat_minor": 0,
  "metadata": {
    "colab": {
      "provenance": [],
      "toc_visible": true
    },
    "kernelspec": {
      "name": "python3",
      "display_name": "Python 3"
    },
    "language_info": {
      "name": "python"
    }
  },
  "cells": [
    {
      "cell_type": "code",
      "execution_count": 1,
      "metadata": {
        "id": "0uT7ij1QTEwy"
      },
      "outputs": [],
      "source": [
        "import tensorflow as tf\n"
      ]
    },
    {
      "cell_type": "code",
      "source": [
        "# create tf dataset from a list\n",
        "\n",
        "sales_number = [10,21,-21,54,100,45,-12]\n",
        "tf_dataset = tf.data.Dataset.from_tensor_slices(sales_number)\n",
        "tf_dataset"
      ],
      "metadata": {
        "colab": {
          "base_uri": "https://localhost:8080/"
        },
        "id": "UKYBh3RqTIAZ",
        "outputId": "7c8513f7-d749-4151-d85a-5e9d44fe3d19"
      },
      "execution_count": 3,
      "outputs": [
        {
          "output_type": "execute_result",
          "data": {
            "text/plain": [
              "<_TensorSliceDataset element_spec=TensorSpec(shape=(), dtype=tf.int32, name=None)>"
            ]
          },
          "metadata": {},
          "execution_count": 3
        }
      ]
    },
    {
      "cell_type": "code",
      "source": [
        "for sales in tf_dataset:\n",
        "    print(sales.numpy())"
      ],
      "metadata": {
        "colab": {
          "base_uri": "https://localhost:8080/"
        },
        "id": "9wv1UtUDTIDE",
        "outputId": "e5c17862-0caf-44d3-b86d-8bba6f9aadfc"
      },
      "execution_count": 4,
      "outputs": [
        {
          "output_type": "stream",
          "name": "stdout",
          "text": [
            "10\n",
            "21\n",
            "-21\n",
            "54\n",
            "100\n",
            "45\n",
            "-12\n"
          ]
        }
      ]
    },
    {
      "cell_type": "code",
      "source": [
        "# iterate through elements as numpy elements\n",
        "\n",
        "for sales in tf_dataset.as_numpy_iterator():\n",
        "    print(sales)"
      ],
      "metadata": {
        "colab": {
          "base_uri": "https://localhost:8080/"
        },
        "id": "l21v65r6TIGH",
        "outputId": "83821728-6d4f-4e4f-b99d-b6842984e756"
      },
      "execution_count": 7,
      "outputs": [
        {
          "output_type": "stream",
          "name": "stdout",
          "text": [
            "10\n",
            "21\n",
            "-21\n",
            "54\n",
            "100\n",
            "45\n",
            "-12\n"
          ]
        }
      ]
    },
    {
      "cell_type": "code",
      "source": [
        "for sales in tf_dataset.take(3):\n",
        "    print(sales.numpy())"
      ],
      "metadata": {
        "colab": {
          "base_uri": "https://localhost:8080/"
        },
        "id": "R3Nm36VpTII7",
        "outputId": "71a32668-d55d-4085-aaa9-9161467e64ae"
      },
      "execution_count": 9,
      "outputs": [
        {
          "output_type": "stream",
          "name": "stdout",
          "text": [
            "10\n",
            "21\n",
            "-21\n"
          ]
        }
      ]
    },
    {
      "cell_type": "code",
      "source": [
        "# Filter sales numbers that are < 0\n",
        "\n",
        "tf_dataset = tf_dataset.filter(lambda x: x>0)\n",
        "for sales in tf_dataset.as_numpy_iterator():\n",
        "    print(sales)"
      ],
      "metadata": {
        "colab": {
          "base_uri": "https://localhost:8080/"
        },
        "id": "358vQhpeVLqC",
        "outputId": "ae35cda5-a695-4ad5-d011-b3c1389c56d7"
      },
      "execution_count": 10,
      "outputs": [
        {
          "output_type": "stream",
          "name": "stdout",
          "text": [
            "10\n",
            "21\n",
            "54\n",
            "100\n",
            "45\n"
          ]
        }
      ]
    },
    {
      "cell_type": "code",
      "source": [
        "# convert $ to tk\n",
        "\n",
        "tf_dataset = tf_dataset.map(lambda x: x*127)\n",
        "for sales in tf_dataset.as_numpy_iterator():\n",
        "    print(sales)"
      ],
      "metadata": {
        "colab": {
          "base_uri": "https://localhost:8080/"
        },
        "id": "te3qMLqiVLwI",
        "outputId": "15d97172-9158-467a-bb63-9c6acf378998"
      },
      "execution_count": 11,
      "outputs": [
        {
          "output_type": "stream",
          "name": "stdout",
          "text": [
            "1270\n",
            "2667\n",
            "6858\n",
            "12700\n",
            "5715\n"
          ]
        }
      ]
    },
    {
      "cell_type": "code",
      "source": [
        "# shuffle the datas\n",
        "\n",
        "tf_dataset = tf_dataset.shuffle(2)\n",
        "for sales in tf_dataset.as_numpy_iterator():\n",
        "    print(sales)"
      ],
      "metadata": {
        "colab": {
          "base_uri": "https://localhost:8080/"
        },
        "id": "7ncjdaaLXF00",
        "outputId": "91085f70-41e5-432f-c055-5643cc6b2d91"
      },
      "execution_count": 12,
      "outputs": [
        {
          "output_type": "stream",
          "name": "stdout",
          "text": [
            "1270\n",
            "6858\n",
            "12700\n",
            "5715\n",
            "2667\n"
          ]
        }
      ]
    },
    {
      "cell_type": "code",
      "source": [
        "# Batching\n",
        "\n",
        "for sales_batch in tf_dataset.batch(2):\n",
        "    print(sales_batch.numpy())"
      ],
      "metadata": {
        "colab": {
          "base_uri": "https://localhost:8080/"
        },
        "id": "14d12ckSXF4H",
        "outputId": "093e286a-77d5-49d7-bf32-8f39409f71dc"
      },
      "execution_count": 13,
      "outputs": [
        {
          "output_type": "stream",
          "name": "stdout",
          "text": [
            "[1270 2667]\n",
            "[12700  5715]\n",
            "[6858]\n"
          ]
        }
      ]
    },
    {
      "cell_type": "code",
      "source": [
        "# perform all those operations in one slot\n",
        "\n",
        "tf_dataset = tf.data.Dataset.from_tensor_slices(sales_number)\n",
        "tf_dataset = tf_dataset.filter(lambda x: x>0).map(lambda y: y*127).shuffle(2).batch(2)\n",
        "for sales in tf_dataset.as_numpy_iterator():\n",
        "    print(sales)"
      ],
      "metadata": {
        "colab": {
          "base_uri": "https://localhost:8080/"
        },
        "id": "T2WYLMICXF7e",
        "outputId": "acc66682-b754-42a9-8d23-361ee59bc220"
      },
      "execution_count": 15,
      "outputs": [
        {
          "output_type": "stream",
          "name": "stdout",
          "text": [
            "[2667 1270]\n",
            "[ 6858 12700]\n",
            "[5715]\n"
          ]
        }
      ]
    },
    {
      "cell_type": "code",
      "source": [],
      "metadata": {
        "id": "fWlyYWjdWu94"
      },
      "execution_count": null,
      "outputs": []
    }
  ]
}