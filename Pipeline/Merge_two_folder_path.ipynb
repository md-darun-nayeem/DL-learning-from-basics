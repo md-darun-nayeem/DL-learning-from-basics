{
  "nbformat": 4,
  "nbformat_minor": 0,
  "metadata": {
    "colab": {
      "provenance": []
    },
    "kernelspec": {
      "name": "python3",
      "display_name": "Python 3"
    },
    "language_info": {
      "name": "python"
    }
  },
  "cells": [
    {
      "cell_type": "code",
      "execution_count": null,
      "metadata": {
        "id": "VR1uZP8rSIto"
      },
      "outputs": [],
      "source": [
        "import os\n",
        "\n",
        "# Define the paths of the two folders\n",
        "folder1_path = \"/path/to/folder1\"\n",
        "folder2_path = \"/path/to/folder2\"\n",
        "\n",
        "# Merge the paths using os.path.join\n",
        "merged_path = os.path.join(folder1_path, folder2_path)\n",
        "\n",
        "print(\"Merged Path:\", merged_path)\n"
      ]
    }
  ]
}