{
 "cells": [
  {
   "cell_type": "code",
   "execution_count": 1,
   "id": "d2e65f91",
   "metadata": {},
   "outputs": [
    {
     "name": "stdout",
     "output_type": "stream",
     "text": [
      "Defaulting to user installation because normal site-packages is not writeable\n",
      "Collecting Augmentor\n",
      "  Downloading Augmentor-0.2.12-py2.py3-none-any.whl (38 kB)\n",
      "Requirement already satisfied: Pillow>=5.2.0 in c:\\programdata\\anaconda3\\lib\\site-packages (from Augmentor) (9.0.1)\n",
      "Requirement already satisfied: tqdm>=4.9.0 in c:\\programdata\\anaconda3\\lib\\site-packages (from Augmentor) (4.64.0)\n",
      "Requirement already satisfied: numpy>=1.11.0 in c:\\users\\nayeem\\appdata\\roaming\\python\\python39\\site-packages (from Augmentor) (1.22.4)\n",
      "Requirement already satisfied: colorama in c:\\programdata\\anaconda3\\lib\\site-packages (from tqdm>=4.9.0->Augmentor) (0.4.4)\n",
      "Installing collected packages: Augmentor\n",
      "Successfully installed Augmentor-0.2.12\n",
      "Note: you may need to restart the kernel to use updated packages.\n"
     ]
    }
   ],
   "source": [
    "pip install Augmentor"
   ]
  },
  {
   "cell_type": "code",
   "execution_count": 1,
   "id": "9ca1d5eb",
   "metadata": {},
   "outputs": [
    {
     "name": "stdout",
     "output_type": "stream",
     "text": [
      "Defaulting to user installation because normal site-packages is not writeableNote: you may need to restart the kernel to use updated packages.\n",
      "\n",
      "Requirement already satisfied: Augmentor in c:\\users\\nayeem\\appdata\\roaming\\python\\python39\\site-packages (0.2.12)\n",
      "Requirement already satisfied: Pillow>=5.2.0 in c:\\programdata\\anaconda3\\lib\\site-packages (from Augmentor) (9.0.1)\n",
      "Requirement already satisfied: numpy>=1.11.0 in c:\\users\\nayeem\\appdata\\roaming\\python\\python39\\site-packages (from Augmentor) (1.22.4)\n",
      "Requirement already satisfied: tqdm>=4.9.0 in c:\\programdata\\anaconda3\\lib\\site-packages (from Augmentor) (4.64.0)\n",
      "Requirement already satisfied: colorama in c:\\programdata\\anaconda3\\lib\\site-packages (from tqdm>=4.9.0->Augmentor) (0.4.4)\n"
     ]
    }
   ],
   "source": [
    "pip install Augmentor --upgrade"
   ]
  },
  {
   "cell_type": "code",
   "execution_count": 20,
   "id": "6f3671f8",
   "metadata": {},
   "outputs": [
    {
     "name": "stdout",
     "output_type": "stream",
     "text": [
      "Initialised with 245 image(s) found.\n",
      "Output directory set to C:\\Users\\Nayeem\\Fruit 8 ALL\\archive\\8  Types of Fruits Dataset\\Train\\Train\\Wood Apple\\output."
     ]
    }
   ],
   "source": [
    "import Augmentor\n",
    "p = Augmentor.Pipeline(r\"C:\\Users\\Nayeem\\Fruit 8 ALL\\archive\\8  Types of Fruits Dataset\\Train\\Train\\Wood Apple\")"
   ]
  },
  {
   "cell_type": "code",
   "execution_count": 21,
   "id": "c2a934db",
   "metadata": {},
   "outputs": [],
   "source": [
    "p.rotate(probability=0.7, max_left_rotation=10, max_right_rotation=10)\n",
    "p.zoom(probability=0.5, min_factor=1.1, max_factor=1.5)\n",
    "p.flip_left_right(probability=0.5)\n",
    "p.flip_top_bottom(probability=0.5)\n",
    "p.random_distortion(probability=1, grid_width=4, grid_height=4, magnitude=8)\n",
    "p.resize(probability=1.0, width=120, height=120)\n",
    "p.random_brightness(probability=0.3, min_factor=0.3, max_factor=1.2)"
   ]
  },
  {
   "cell_type": "code",
   "execution_count": 22,
   "id": "8917f5ca",
   "metadata": {},
   "outputs": [
    {
     "name": "stderr",
     "output_type": "stream",
     "text": [
      "Processing <PIL.Image.Image image mode=RGBA size=120x120 at 0x22780BEFB80>: 100%|█| 1000/1000 [00:09<00:00, 106.97 Samp\n"
     ]
    }
   ],
   "source": [
    "p.sample(1000)"
   ]
  },
  {
   "cell_type": "code",
   "execution_count": null,
   "id": "2c2e025c",
   "metadata": {},
   "outputs": [],
   "source": []
  },
  {
   "cell_type": "code",
   "execution_count": null,
   "id": "345e283a",
   "metadata": {},
   "outputs": [],
   "source": []
  }
 ],
 "metadata": {
  "kernelspec": {
   "display_name": "Python 3 (ipykernel)",
   "language": "python",
   "name": "python3"
  },
  "language_info": {
   "codemirror_mode": {
    "name": "ipython",
    "version": 3
   },
   "file_extension": ".py",
   "mimetype": "text/x-python",
   "name": "python",
   "nbconvert_exporter": "python",
   "pygments_lexer": "ipython3",
   "version": "3.9.12"
  }
 },
 "nbformat": 4,
 "nbformat_minor": 5
}
